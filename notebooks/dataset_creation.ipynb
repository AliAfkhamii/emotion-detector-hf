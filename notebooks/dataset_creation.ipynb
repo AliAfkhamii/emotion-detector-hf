{
 "cells": [
  {
   "metadata": {},
   "cell_type": "markdown",
   "source": [
    "#### this cell was dedicated to turn the list of dictionaries(our synthetic dataset) to a unified JSON format.\n",
    "\n",
    "`\n",
    "emotions_list = [...]\n",
    "\n",
    "import json\n",
    "\n",
    "with open('../data/raw.json', 'w', encoding='utf-8') as f:\n",
    "    json.dump(emotions_list, f, ensure_ascii=False, indent=4)\n",
    "`"
   ],
   "id": "640115dd4f21d81b"
  },
  {
   "metadata": {
    "ExecuteTime": {
     "end_time": "2025-05-07T17:17:26.797075Z",
     "start_time": "2025-05-07T17:17:26.786604Z"
    }
   },
   "cell_type": "code",
   "source": [
    "%%writefile ../src/data/create_dataset.py\n",
    "import json\n",
    "import pandas as pd\n",
    "from datasets import Dataset\n",
    "\n",
    "emotions = [\"anger\", \"sadness\", \"joy\", \"fear\", \"surprise\"]\n",
    "\n",
    "with open('../data/raw.json', 'r', encoding='utf-8') as f:\n",
    "    raw_data = json.load(f)\n",
    "\n",
    "emotions_df = pd.DataFrame(raw_data, columns=[\"text\", \"emotion\"])"
   ],
   "id": "23e688ec61236f7b",
   "outputs": [
    {
     "name": "stdout",
     "output_type": "stream",
     "text": [
      "Overwriting ../src/data/create_dataset.py\n"
     ]
    }
   ],
   "execution_count": 28
  },
  {
   "metadata": {},
   "cell_type": "code",
   "outputs": [],
   "execution_count": null,
   "source": "emotions_df.sample(10)",
   "id": "d212bb25bfb86d7"
  },
  {
   "metadata": {
    "ExecuteTime": {
     "end_time": "2025-05-07T17:17:32.894863Z",
     "start_time": "2025-05-07T17:17:32.884454Z"
    }
   },
   "cell_type": "code",
   "source": [
    "%%writefile -a ../src/data/create_dataset.py\n",
    "\n",
    "emotions_df[\"emotion\"] = emotions_df[\"emotion\"].replace(\"sad\", \"sadness\")"
   ],
   "id": "4a5264465daa9021",
   "outputs": [
    {
     "name": "stdout",
     "output_type": "stream",
     "text": [
      "Appending to ../src/data/create_dataset.py\n"
     ]
    }
   ],
   "execution_count": 29
  },
  {
   "metadata": {
    "ExecuteTime": {
     "end_time": "2025-05-07T16:32:39.383684Z",
     "start_time": "2025-05-07T16:32:39.363232Z"
    }
   },
   "cell_type": "code",
   "source": "emotions_df.groupby(\"emotion\").count()",
   "id": "29f2ffc1960391f1",
   "outputs": [
    {
     "data": {
      "text/plain": [
       "          text\n",
       "emotion       \n",
       "anger      101\n",
       "fear       113\n",
       "joy        120\n",
       "sadness    114\n",
       "surprise   115"
      ],
      "text/html": [
       "<div>\n",
       "<style scoped>\n",
       "    .dataframe tbody tr th:only-of-type {\n",
       "        vertical-align: middle;\n",
       "    }\n",
       "\n",
       "    .dataframe tbody tr th {\n",
       "        vertical-align: top;\n",
       "    }\n",
       "\n",
       "    .dataframe thead th {\n",
       "        text-align: right;\n",
       "    }\n",
       "</style>\n",
       "<table border=\"1\" class=\"dataframe\">\n",
       "  <thead>\n",
       "    <tr style=\"text-align: right;\">\n",
       "      <th></th>\n",
       "      <th>text</th>\n",
       "    </tr>\n",
       "    <tr>\n",
       "      <th>emotion</th>\n",
       "      <th></th>\n",
       "    </tr>\n",
       "  </thead>\n",
       "  <tbody>\n",
       "    <tr>\n",
       "      <th>anger</th>\n",
       "      <td>101</td>\n",
       "    </tr>\n",
       "    <tr>\n",
       "      <th>fear</th>\n",
       "      <td>113</td>\n",
       "    </tr>\n",
       "    <tr>\n",
       "      <th>joy</th>\n",
       "      <td>120</td>\n",
       "    </tr>\n",
       "    <tr>\n",
       "      <th>sadness</th>\n",
       "      <td>114</td>\n",
       "    </tr>\n",
       "    <tr>\n",
       "      <th>surprise</th>\n",
       "      <td>115</td>\n",
       "    </tr>\n",
       "  </tbody>\n",
       "</table>\n",
       "</div>"
      ]
     },
     "execution_count": 20,
     "metadata": {},
     "output_type": "execute_result"
    }
   ],
   "execution_count": 20
  },
  {
   "metadata": {
    "ExecuteTime": {
     "end_time": "2025-05-07T16:20:09.472019Z",
     "start_time": "2025-05-07T16:20:09.443169Z"
    }
   },
   "cell_type": "code",
   "source": "emotions_df.groupby(\"emotion\").count().mean()",
   "id": "d2148fb1a857f93b",
   "outputs": [
    {
     "data": {
      "text/plain": [
       "text    112.6\n",
       "dtype: float64"
      ]
     },
     "execution_count": 7,
     "metadata": {},
     "output_type": "execute_result"
    }
   ],
   "execution_count": 7
  },
  {
   "metadata": {
    "ExecuteTime": {
     "end_time": "2025-05-07T16:32:44.578387Z",
     "start_time": "2025-05-07T16:32:44.568879Z"
    }
   },
   "cell_type": "code",
   "source": "emotions_df.size",
   "id": "8c9e1f0dd0d63927",
   "outputs": [
    {
     "data": {
      "text/plain": [
       "1126"
      ]
     },
     "execution_count": 21,
     "metadata": {},
     "output_type": "execute_result"
    }
   ],
   "execution_count": 21
  },
  {
   "metadata": {
    "ExecuteTime": {
     "end_time": "2025-05-07T16:20:23.979074Z",
     "start_time": "2025-05-07T16:20:23.950346Z"
    }
   },
   "cell_type": "code",
   "source": "emotions_df.sample(10).reset_index(drop=True)",
   "id": "f5c148c50c8fe670",
   "outputs": [
    {
     "data": {
      "text/plain": [
       "                                                text   emotion\n",
       "0  My teacher told me I'd never make it, and some...   sadness\n",
       "1  I have to give a speech at a funeral. I'm real...      fear\n",
       "2            I didn't get into the college I wanted.   sadness\n",
       "3  I'm sick and tired of your lies. Just tell the...     anger\n",
       "4  We closed the deal today. The client was thril...       joy\n",
       "5  I aced my final exams. I'm so relieved and happy!       joy\n",
       "6  I can't believe you lost the files again. This...     anger\n",
       "7  I just found out I'm being promoted to manager...  surprise\n",
       "8  I failed the exam. I studied for weeks, but it...   sadness\n",
       "9  I finished my first novel. I feel so accomplis...       joy"
      ],
      "text/html": [
       "<div>\n",
       "<style scoped>\n",
       "    .dataframe tbody tr th:only-of-type {\n",
       "        vertical-align: middle;\n",
       "    }\n",
       "\n",
       "    .dataframe tbody tr th {\n",
       "        vertical-align: top;\n",
       "    }\n",
       "\n",
       "    .dataframe thead th {\n",
       "        text-align: right;\n",
       "    }\n",
       "</style>\n",
       "<table border=\"1\" class=\"dataframe\">\n",
       "  <thead>\n",
       "    <tr style=\"text-align: right;\">\n",
       "      <th></th>\n",
       "      <th>text</th>\n",
       "      <th>emotion</th>\n",
       "    </tr>\n",
       "  </thead>\n",
       "  <tbody>\n",
       "    <tr>\n",
       "      <th>0</th>\n",
       "      <td>My teacher told me I'd never make it, and some...</td>\n",
       "      <td>sadness</td>\n",
       "    </tr>\n",
       "    <tr>\n",
       "      <th>1</th>\n",
       "      <td>I have to give a speech at a funeral. I'm real...</td>\n",
       "      <td>fear</td>\n",
       "    </tr>\n",
       "    <tr>\n",
       "      <th>2</th>\n",
       "      <td>I didn't get into the college I wanted.</td>\n",
       "      <td>sadness</td>\n",
       "    </tr>\n",
       "    <tr>\n",
       "      <th>3</th>\n",
       "      <td>I'm sick and tired of your lies. Just tell the...</td>\n",
       "      <td>anger</td>\n",
       "    </tr>\n",
       "    <tr>\n",
       "      <th>4</th>\n",
       "      <td>We closed the deal today. The client was thril...</td>\n",
       "      <td>joy</td>\n",
       "    </tr>\n",
       "    <tr>\n",
       "      <th>5</th>\n",
       "      <td>I aced my final exams. I'm so relieved and happy!</td>\n",
       "      <td>joy</td>\n",
       "    </tr>\n",
       "    <tr>\n",
       "      <th>6</th>\n",
       "      <td>I can't believe you lost the files again. This...</td>\n",
       "      <td>anger</td>\n",
       "    </tr>\n",
       "    <tr>\n",
       "      <th>7</th>\n",
       "      <td>I just found out I'm being promoted to manager...</td>\n",
       "      <td>surprise</td>\n",
       "    </tr>\n",
       "    <tr>\n",
       "      <th>8</th>\n",
       "      <td>I failed the exam. I studied for weeks, but it...</td>\n",
       "      <td>sadness</td>\n",
       "    </tr>\n",
       "    <tr>\n",
       "      <th>9</th>\n",
       "      <td>I finished my first novel. I feel so accomplis...</td>\n",
       "      <td>joy</td>\n",
       "    </tr>\n",
       "  </tbody>\n",
       "</table>\n",
       "</div>"
      ]
     },
     "execution_count": 9,
     "metadata": {},
     "output_type": "execute_result"
    }
   ],
   "execution_count": 9
  },
  {
   "metadata": {
    "ExecuteTime": {
     "end_time": "2025-05-07T16:20:31.721952Z",
     "start_time": "2025-05-07T16:20:31.687979Z"
    }
   },
   "cell_type": "code",
   "source": "emotions_df.info()",
   "id": "eaf696f3cf9b0d0a",
   "outputs": [
    {
     "name": "stdout",
     "output_type": "stream",
     "text": [
      "<class 'pandas.core.frame.DataFrame'>\n",
      "RangeIndex: 563 entries, 0 to 562\n",
      "Data columns (total 2 columns):\n",
      " #   Column   Non-Null Count  Dtype \n",
      "---  ------   --------------  ----- \n",
      " 0   text     563 non-null    object\n",
      " 1   emotion  563 non-null    object\n",
      "dtypes: object(2)\n",
      "memory usage: 8.9+ KB\n"
     ]
    }
   ],
   "execution_count": 10
  },
  {
   "metadata": {
    "ExecuteTime": {
     "end_time": "2025-05-07T16:20:34.043855Z",
     "start_time": "2025-05-07T16:20:34.030714Z"
    }
   },
   "cell_type": "code",
   "source": "emotions_df.isnull().values",
   "id": "19754af7283559b9",
   "outputs": [
    {
     "data": {
      "text/plain": [
       "array([[False, False],\n",
       "       [False, False],\n",
       "       [False, False],\n",
       "       ...,\n",
       "       [False, False],\n",
       "       [False, False],\n",
       "       [False, False]], shape=(563, 2))"
      ]
     },
     "execution_count": 11,
     "metadata": {},
     "output_type": "execute_result"
    }
   ],
   "execution_count": 11
  },
  {
   "metadata": {
    "ExecuteTime": {
     "end_time": "2025-05-07T16:20:35.963608Z",
     "start_time": "2025-05-07T16:20:35.949722Z"
    }
   },
   "cell_type": "code",
   "source": "emotions_df.notnull().sum()",
   "id": "223ca674b778065d",
   "outputs": [
    {
     "data": {
      "text/plain": [
       "text       563\n",
       "emotion    563\n",
       "dtype: int64"
      ]
     },
     "execution_count": 12,
     "metadata": {},
     "output_type": "execute_result"
    }
   ],
   "execution_count": 12
  },
  {
   "metadata": {
    "ExecuteTime": {
     "end_time": "2025-05-07T16:20:38.833263Z",
     "start_time": "2025-05-07T16:20:38.819423Z"
    }
   },
   "cell_type": "code",
   "source": "emotions_df.notnull().all()\n",
   "id": "d2e48a183ca759c8",
   "outputs": [
    {
     "data": {
      "text/plain": [
       "text       True\n",
       "emotion    True\n",
       "dtype: bool"
      ]
     },
     "execution_count": 13,
     "metadata": {},
     "output_type": "execute_result"
    }
   ],
   "execution_count": 13
  },
  {
   "metadata": {
    "ExecuteTime": {
     "end_time": "2025-05-05T13:13:06.656106Z",
     "start_time": "2025-05-05T13:13:06.641200Z"
    }
   },
   "cell_type": "code",
   "source": "emotions_df[emotions_df.isna().any(axis=1)]",
   "id": "fb3134643ba9fa9d",
   "outputs": [
    {
     "data": {
      "text/plain": [
       "Empty DataFrame\n",
       "Columns: [text, emotion]\n",
       "Index: []"
      ],
      "text/html": [
       "<div>\n",
       "<style scoped>\n",
       "    .dataframe tbody tr th:only-of-type {\n",
       "        vertical-align: middle;\n",
       "    }\n",
       "\n",
       "    .dataframe tbody tr th {\n",
       "        vertical-align: top;\n",
       "    }\n",
       "\n",
       "    .dataframe thead th {\n",
       "        text-align: right;\n",
       "    }\n",
       "</style>\n",
       "<table border=\"1\" class=\"dataframe\">\n",
       "  <thead>\n",
       "    <tr style=\"text-align: right;\">\n",
       "      <th></th>\n",
       "      <th>text</th>\n",
       "      <th>emotion</th>\n",
       "    </tr>\n",
       "  </thead>\n",
       "  <tbody>\n",
       "  </tbody>\n",
       "</table>\n",
       "</div>"
      ]
     },
     "execution_count": 49,
     "metadata": {},
     "output_type": "execute_result"
    }
   ],
   "execution_count": 49
  },
  {
   "metadata": {
    "ExecuteTime": {
     "end_time": "2025-05-07T17:17:42.642858Z",
     "start_time": "2025-05-07T17:17:42.632401Z"
    }
   },
   "cell_type": "code",
   "source": [
    "%%writefile -a ../src/data/create_dataset.py\n",
    "\n",
    "dataset = Dataset.from_pandas(emotions_df)\n",
    "dataset = dataset.rename_column(\"emotion\", \"label\")"
   ],
   "id": "681dcd524cc8b2ab",
   "outputs": [
    {
     "name": "stdout",
     "output_type": "stream",
     "text": [
      "Appending to ../src/data/create_dataset.py\n"
     ]
    }
   ],
   "execution_count": 30
  },
  {
   "metadata": {
    "ExecuteTime": {
     "end_time": "2025-05-07T16:21:16.352872Z",
     "start_time": "2025-05-07T16:21:16.339153Z"
    }
   },
   "cell_type": "code",
   "source": "dataset.column_names",
   "id": "44ed248262bebbd3",
   "outputs": [
    {
     "data": {
      "text/plain": [
       "['text', 'label']"
      ]
     },
     "execution_count": 15,
     "metadata": {},
     "output_type": "execute_result"
    }
   ],
   "execution_count": 15
  },
  {
   "metadata": {
    "ExecuteTime": {
     "end_time": "2025-05-05T13:13:07.196475Z",
     "start_time": "2025-05-05T13:13:07.184737Z"
    }
   },
   "cell_type": "code",
   "source": "dataset['label'][100:110]",
   "id": "72bcafc74964ddf8",
   "outputs": [
    {
     "data": {
      "text/plain": [
       "['anger',\n",
       " 'sadness',\n",
       " 'sadness',\n",
       " 'sadness',\n",
       " 'sadness',\n",
       " 'sadness',\n",
       " 'sadness',\n",
       " 'sadness',\n",
       " 'sadness',\n",
       " 'sadness']"
      ]
     },
     "execution_count": 52,
     "metadata": {},
     "output_type": "execute_result"
    }
   ],
   "execution_count": 52
  },
  {
   "metadata": {
    "ExecuteTime": {
     "end_time": "2025-05-07T17:17:47.275967Z",
     "start_time": "2025-05-07T17:17:47.266870Z"
    }
   },
   "cell_type": "code",
   "source": [
    "%%writefile -a ../src/data/create_dataset.py\n",
    "\n",
    "dataset.push_to_hub(\"AliAfkhamii/hf_emotion_generation_texts\")"
   ],
   "id": "e11723d97aa81e18",
   "outputs": [
    {
     "name": "stdout",
     "output_type": "stream",
     "text": [
      "Appending to ../src/data/create_dataset.py\n"
     ]
    }
   ],
   "execution_count": 31
  },
  {
   "metadata": {},
   "cell_type": "code",
   "outputs": [],
   "execution_count": null,
   "source": "",
   "id": "5eefd98853e59685"
  }
 ],
 "metadata": {
  "kernelspec": {
   "display_name": "Python 3",
   "language": "python",
   "name": "python3"
  },
  "language_info": {
   "codemirror_mode": {
    "name": "ipython",
    "version": 2
   },
   "file_extension": ".py",
   "mimetype": "text/x-python",
   "name": "python",
   "nbconvert_exporter": "python",
   "pygments_lexer": "ipython2",
   "version": "2.7.6"
  }
 },
 "nbformat": 4,
 "nbformat_minor": 5
}
